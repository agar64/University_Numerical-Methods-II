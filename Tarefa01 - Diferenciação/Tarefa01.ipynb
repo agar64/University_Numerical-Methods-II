{
 "cells": [
  {
   "cell_type": "code",
   "execution_count": 2,
   "id": "4bf002a1-a9ff-4066-a168-18d16b2f98bc",
   "metadata": {},
   "outputs": [
    {
     "name": "stdout",
     "output_type": "stream",
     "text": [
      "h\t\tSegunda Derivada Numérica\tErro Relativo\n",
      "0.500000\t-62.287220\t\t\t3.665742e+00\n",
      "0.250000\t-60.969685\t\t\t3.609354e+00\n",
      "0.125000\t-60.886260\t\t\t3.605784e+00\n",
      "0.062500\t-60.881031\t\t\t3.605560e+00\n",
      "0.031250\t-60.880704\t\t\t3.605546e+00\n",
      "0.015625\t-60.880683\t\t\t3.605545e+00\n",
      "0.007812\t-60.880682\t\t\t3.605545e+00\n"
     ]
    }
   ],
   "source": [
    "import numpy as np\n",
    "\n",
    "# Definindo a função f(x) e sua segunda derivada analítica\n",
    "def f(x):\n",
    "    return x**5*np.cos(x)\n",
    "    x**5*np.cos(x)\n",
    "\n",
    "def f_analytic_second_derivative(x):\n",
    "    return ((np.e**(3*x)) * (8 * (9*(x**2) - 6*x + 2) + 9*(np.e**(3*x))) / (4 * (4*(x**2) + (np.e**(3*x)))**(3/2)))\n",
    "\n",
    "# Implementando a fórmula da segunda derivada com erro O(h^4)\n",
    "def central_second_derivative_O_h4(f, x, h):\n",
    "    return (-f(x + 2*h) + 16*f(x + h) - 30*f(x) + 16*f(x - h) - f(x - 2*h)) / (12 * h**2)\n",
    "\n",
    "# Ponto de avaliação\n",
    "x = np.pi/2\n",
    "\n",
    "# Valores de Delta x (h) para o estudo de convergência\n",
    "h_values = [0.5, 0.25, 0.125, 0.0625, 0.03125, 0.015625, 0.0078125]\n",
    "\n",
    "# Calculando a segunda derivada usando a fórmula e o erro relativo\n",
    "results_O_h4 = []\n",
    "for h in h_values:\n",
    "    numerical_second_derivative_O_h4 = central_second_derivative_O_h4(f, x, h)\n",
    "    analytic_second_derivative = f_analytic_second_derivative(x)\n",
    "    error_O_h4 = abs((numerical_second_derivative_O_h4 - analytic_second_derivative) / analytic_second_derivative)\n",
    "    results_O_h4.append((h, numerical_second_derivative_O_h4, error_O_h4))\n",
    "\n",
    "# Exibindo os resultados\n",
    "print(\"h\\t\\tSegunda Derivada Numérica\\tErro Relativo\")\n",
    "for result in results_O_h4:\n",
    "    print(f\"{result[0]:.6f}\\t{result[1]:.6f}\\t\\t\\t{result[2]:.6e}\")\n"
   ]
  },
  {
   "cell_type": "code",
   "execution_count": null,
   "id": "1e4369c9-933a-4eb8-81ba-136951af6c75",
   "metadata": {},
   "outputs": [],
   "source": []
  }
 ],
 "metadata": {
  "kernelspec": {
   "display_name": "Python 3 (ipykernel)",
   "language": "python",
   "name": "python3"
  },
  "language_info": {
   "codemirror_mode": {
    "name": "ipython",
    "version": 3
   },
   "file_extension": ".py",
   "mimetype": "text/x-python",
   "name": "python",
   "nbconvert_exporter": "python",
   "pygments_lexer": "ipython3",
   "version": "3.12.0"
  }
 },
 "nbformat": 4,
 "nbformat_minor": 5
}
