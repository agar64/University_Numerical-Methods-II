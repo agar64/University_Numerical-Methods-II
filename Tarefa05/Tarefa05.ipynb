{
 "cells": [
  {
   "cell_type": "code",
   "execution_count": 1,
   "id": "57931c41-4542-4111-90b6-aa5f57e40cb8",
   "metadata": {},
   "outputs": [
    {
     "name": "stdout",
     "output_type": "stream",
     "text": [
      "Integral com 2 pontos: 0.6858106185463033, Iterações: 3\n",
      "Integral com 3 pontos: 0.6444188678181246, Iterações: 3\n",
      "Integral com 4 pontos: 0.6440546707048144, Iterações: 3\n"
     ]
    }
   ],
   "source": [
    "import numpy as np\n",
    "\n",
    "def gauss_legendre_weights_roots(n):\n",
    "    \"\"\"\n",
    "    Calcula as raízes e os pesos para a quadratura de Gauss-Legendre com n pontos.\n",
    "    \"\"\"\n",
    "    roots, weights = np.polynomial.legendre.leggauss(n)\n",
    "    return roots, weights\n",
    "\n",
    "def integrate_gauss_legendre(func, a, b, n, tol=1e-6):\n",
    "    \"\"\"\n",
    "    Integra a função `func` no intervalo [a, b] usando quadratura de Gauss-Legendre com n pontos.\n",
    "    Aplica a estratégia de partição até que a tolerância especificada seja atingida.\n",
    "    \"\"\"\n",
    "    roots, weights = gauss_legendre_weights_roots(n)\n",
    "    \n",
    "    def gauss_legendre_single_interval(func, a, b, roots, weights):\n",
    "        \"\"\"\n",
    "        Calcula a integral de Gauss-Legendre em um único intervalo [a, b].\n",
    "        \"\"\"\n",
    "        # Mudança de variável para ajustar ao intervalo [a, b]\n",
    "        adjusted_roots = 0.5 * (b - a) * roots + 0.5 * (b + a)\n",
    "        integral = 0.5 * (b - a) * np.sum(weights * func(adjusted_roots))\n",
    "        return integral\n",
    "\n",
    "    # Primeira estimativa da integral\n",
    "    integral = gauss_legendre_single_interval(func, a, b, roots, weights)\n",
    "    \n",
    "    # Estratégia de partição para refinar a integral\n",
    "    iteration = 1\n",
    "    error = tol + 1\n",
    "    while error > tol:\n",
    "        iteration += 1\n",
    "        mid = (a + b) / 2\n",
    "        left_integral = gauss_legendre_single_interval(func, a, mid, roots, weights)\n",
    "        right_integral = gauss_legendre_single_interval(func, mid, b, roots, weights)\n",
    "        new_integral = left_integral + right_integral\n",
    "        error = np.abs(new_integral - integral)\n",
    "        integral = new_integral\n",
    "\n",
    "    return integral, iteration\n",
    "\n",
    "# Função a ser integrada\n",
    "def func(x):\n",
    "    return x**6*(np.cos(x))\n",
    "\n",
    "# Intervalo de integração\n",
    "a, b = 0, np.pi/2\n",
    "\n",
    "# Resultados para n = 2, 3, 4 pontos\n",
    "for n in [2, 3, 4]:\n",
    "    result, iterations = integrate_gauss_legendre(func, a, b, n)\n",
    "    print(f\"Integral com {n} pontos: {result}, Iterações: {iterations}\")\n"
   ]
  },
  {
   "cell_type": "code",
   "execution_count": null,
   "id": "1696cfe8-d903-45a1-b42f-b8580984f07b",
   "metadata": {},
   "outputs": [],
   "source": []
  }
 ],
 "metadata": {
  "kernelspec": {
   "display_name": "Python 3 (ipykernel)",
   "language": "python",
   "name": "python3"
  },
  "language_info": {
   "codemirror_mode": {
    "name": "ipython",
    "version": 3
   },
   "file_extension": ".py",
   "mimetype": "text/x-python",
   "name": "python",
   "nbconvert_exporter": "python",
   "pygments_lexer": "ipython3",
   "version": "3.12.0"
  }
 },
 "nbformat": 4,
 "nbformat_minor": 5
}
